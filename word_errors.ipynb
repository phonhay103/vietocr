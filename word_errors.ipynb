{
 "cells": [
  {
   "cell_type": "code",
   "execution_count": 91,
   "id": "af0aa17b",
   "metadata": {},
   "outputs": [],
   "source": [
    "import pandas as pd\n",
    "from collections import Counter\n",
    "\n",
    "def create_df(err_file_path):\n",
    "    words = []\n",
    "    with open(err_file_path) as f:\n",
    "        lines = f.read().splitlines()\n",
    "\n",
    "        for line in lines:\n",
    "            _, gt_word, _, _, pred_word = line.split()\n",
    "            words.append((gt_word, pred_word))\n",
    "\n",
    "    word_counter = Counter(words)\n",
    "\n",
    "    df = pd.DataFrame.from_dict(word_counter, orient='index', columns=['Count'])\n",
    "    df[['gt_word', 'pred_word']] = pd.DataFrame(df.index.tolist(), index=df.index)\n",
    "    df = df.sort_values('Count', ascending=False)\n",
    "    df = df.reset_index(drop=True)\n",
    "    df = df[['gt_word', 'pred_word', 'Count']]\n",
    "    return df\n",
    "\n",
    "old_df = create_df('word_errors_new.txt')"
   ]
  },
  {
   "cell_type": "code",
   "execution_count": 92,
   "id": "f1da5789",
   "metadata": {},
   "outputs": [
    {
     "name": "stdout",
     "output_type": "stream",
     "text": [
      "47\n",
      "83\n",
      "183\n",
      "568\n"
     ]
    }
   ],
   "source": [
    "print(len(set(old_df[old_df.Count >= 5].gt_word.values)))\n",
    "print(len(set(old_df[old_df.Count >= 4].gt_word.values)))\n",
    "print(len(set(old_df[old_df.Count >= 3].gt_word.values)))\n",
    "print(len(set(old_df[old_df.Count >= 2].gt_word.values)))"
   ]
  },
  {
   "cell_type": "code",
   "execution_count": 93,
   "id": "79bd2813",
   "metadata": {},
   "outputs": [
    {
     "data": {
      "text/html": [
       "<div>\n",
       "<style scoped>\n",
       "    .dataframe tbody tr th:only-of-type {\n",
       "        vertical-align: middle;\n",
       "    }\n",
       "\n",
       "    .dataframe tbody tr th {\n",
       "        vertical-align: top;\n",
       "    }\n",
       "\n",
       "    .dataframe thead th {\n",
       "        text-align: right;\n",
       "    }\n",
       "</style>\n",
       "<table border=\"1\" class=\"dataframe\">\n",
       "  <thead>\n",
       "    <tr style=\"text-align: right;\">\n",
       "      <th></th>\n",
       "      <th>Count</th>\n",
       "    </tr>\n",
       "  </thead>\n",
       "  <tbody>\n",
       "    <tr>\n",
       "      <th>count</th>\n",
       "      <td>9639.000000</td>\n",
       "    </tr>\n",
       "    <tr>\n",
       "      <th>mean</th>\n",
       "      <td>1.120656</td>\n",
       "    </tr>\n",
       "    <tr>\n",
       "      <th>std</th>\n",
       "      <td>0.632741</td>\n",
       "    </tr>\n",
       "    <tr>\n",
       "      <th>min</th>\n",
       "      <td>1.000000</td>\n",
       "    </tr>\n",
       "    <tr>\n",
       "      <th>25%</th>\n",
       "      <td>1.000000</td>\n",
       "    </tr>\n",
       "    <tr>\n",
       "      <th>50%</th>\n",
       "      <td>1.000000</td>\n",
       "    </tr>\n",
       "    <tr>\n",
       "      <th>75%</th>\n",
       "      <td>1.000000</td>\n",
       "    </tr>\n",
       "    <tr>\n",
       "      <th>max</th>\n",
       "      <td>24.000000</td>\n",
       "    </tr>\n",
       "  </tbody>\n",
       "</table>\n",
       "</div>"
      ],
      "text/plain": [
       "             Count\n",
       "count  9639.000000\n",
       "mean      1.120656\n",
       "std       0.632741\n",
       "min       1.000000\n",
       "25%       1.000000\n",
       "50%       1.000000\n",
       "75%       1.000000\n",
       "max      24.000000"
      ]
     },
     "execution_count": 93,
     "metadata": {},
     "output_type": "execute_result"
    }
   ],
   "source": [
    "old_df.describe()"
   ]
  },
  {
   "cell_type": "code",
   "execution_count": 95,
   "id": "852a5e48",
   "metadata": {},
   "outputs": [
    {
     "data": {
      "image/png": "[encoded data removed]",
      "text/plain": [
       "<Figure size 640x480 with 1 Axes>"
      ]
     },
     "metadata": {},
     "output_type": "display_data"
    }
   ],
   "source": [
    "import matplotlib.pyplot as plt\n",
    "\n",
    "old_df.Count.plot(kind='hist', bins=30)\n",
    "\n",
    "plt.xlabel(\"Số lỗi sai\")\n",
    "plt.ylabel(\"Số từ\")\n",
    "plt.title(\"Phân bố số từ có cùng lỗi sai\")\n",
    "plt.yscale('log')\n",
    "\n",
    "plt.savefig(\"word_error_VN_histogram.png\", dpi=300)"
   ]
  },
  {
   "cell_type": "code",
   "execution_count": 80,
   "id": "229c4763",
   "metadata": {},
   "outputs": [],
   "source": [
    "import pandas as pd\n",
    "from collections import Counter\n",
    "\n",
    "def create_df(err_file_path):\n",
    "    words = []\n",
    "    with open(err_file_path) as f:\n",
    "        lines = f.read().splitlines()\n",
    "\n",
    "        for line in lines:\n",
    "            _, gt_word, _, _, _ = line.split()\n",
    "            words.append(gt_word)\n",
    "\n",
    "    counter = Counter(words)\n",
    "\n",
    "    df = pd.DataFrame(counter.items(), columns=['gt_word', 'Count'])\n",
    "    df = df.sort_values('Count', ascending=False)\n",
    "    return df\n",
    "\n",
    "df = create_df('word_errors_new.txt')"
   ]
  },
  {
   "cell_type": "code",
   "execution_count": 81,
   "id": "bf80899c",
   "metadata": {},
   "outputs": [
    {
     "data": {
      "text/html": [
       "<div>\n",
       "<style scoped>\n",
       "    .dataframe tbody tr th:only-of-type {\n",
       "        vertical-align: middle;\n",
       "    }\n",
       "\n",
       "    .dataframe tbody tr th {\n",
       "        vertical-align: top;\n",
       "    }\n",
       "\n",
       "    .dataframe thead th {\n",
       "        text-align: right;\n",
       "    }\n",
       "</style>\n",
       "<table border=\"1\" class=\"dataframe\">\n",
       "  <thead>\n",
       "    <tr style=\"text-align: right;\">\n",
       "      <th></th>\n",
       "      <th>Count</th>\n",
       "    </tr>\n",
       "  </thead>\n",
       "  <tbody>\n",
       "    <tr>\n",
       "      <th>count</th>\n",
       "      <td>7506.000000</td>\n",
       "    </tr>\n",
       "    <tr>\n",
       "      <th>mean</th>\n",
       "      <td>1.439115</td>\n",
       "    </tr>\n",
       "    <tr>\n",
       "      <th>std</th>\n",
       "      <td>1.464602</td>\n",
       "    </tr>\n",
       "    <tr>\n",
       "      <th>min</th>\n",
       "      <td>1.000000</td>\n",
       "    </tr>\n",
       "    <tr>\n",
       "      <th>25%</th>\n",
       "      <td>1.000000</td>\n",
       "    </tr>\n",
       "    <tr>\n",
       "      <th>50%</th>\n",
       "      <td>1.000000</td>\n",
       "    </tr>\n",
       "    <tr>\n",
       "      <th>75%</th>\n",
       "      <td>1.000000</td>\n",
       "    </tr>\n",
       "    <tr>\n",
       "      <th>max</th>\n",
       "      <td>34.000000</td>\n",
       "    </tr>\n",
       "  </tbody>\n",
       "</table>\n",
       "</div>"
      ],
      "text/plain": [
       "             Count\n",
       "count  7506.000000\n",
       "mean      1.439115\n",
       "std       1.464602\n",
       "min       1.000000\n",
       "25%       1.000000\n",
       "50%       1.000000\n",
       "75%       1.000000\n",
       "max      34.000000"
      ]
     },
     "execution_count": 81,
     "metadata": {},
     "output_type": "execute_result"
    }
   ],
   "source": [
    "df.describe()"
   ]
  },
  {
   "cell_type": "code",
   "execution_count": 82,
   "id": "635a7975",
   "metadata": {},
   "outputs": [
    {
     "name": "stdout",
     "output_type": "stream",
     "text": [
      "45\n",
      "56\n",
      "74\n",
      "101\n",
      "149\n",
      "206\n",
      "316\n",
      "551\n",
      "1589\n",
      "7506\n"
     ]
    }
   ],
   "source": [
    "print(len(df[df.Count >= 10].gt_word.values))\n",
    "print(len(df[df.Count >= 9].gt_word.values))\n",
    "print(len(df[df.Count >= 8].gt_word.values))\n",
    "print(len(df[df.Count >= 7].gt_word.values))\n",
    "print(len(df[df.Count >= 6].gt_word.values))\n",
    "print(len(df[df.Count >= 5].gt_word.values))\n",
    "print(len(df[df.Count >= 4].gt_word.values))\n",
    "print(len(df[df.Count >= 3].gt_word.values))\n",
    "print(len(df[df.Count >= 2].gt_word.values))\n",
    "print(len(df[df.Count >= 1].gt_word.values))"
   ]
  },
  {
   "cell_type": "code",
   "execution_count": 83,
   "id": "937ebe22",
   "metadata": {},
   "outputs": [
    {
     "data": {
      "text/plain": [
       "<AxesSubplot: ylabel='Frequency'>"
      ]
     },
     "execution_count": 83,
     "metadata": {},
     "output_type": "execute_result"
    },
    {
     "data": {
      "image/png": "[encoded data removed]",
      "text/plain": [
       "<Figure size 640x480 with 1 Axes>"
      ]
     },
     "metadata": {},
     "output_type": "display_data"
    }
   ],
   "source": [
    "df.Count.plot(kind='hist', bins=30)"
   ]
  },
  {
   "cell_type": "code",
   "execution_count": null,
   "id": "7a6f8b7b",
   "metadata": {},
   "outputs": [],
   "source": []
  }
 ],
 "metadata": {
  "kernelspec": {
   "display_name": "trocr",
   "language": "python",
   "name": "trocr"
  },
  "language_info": {
   "codemirror_mode": {
    "name": "ipython",
    "version": 3
   },
   "file_extension": ".py",
   "mimetype": "text/x-python",
   "name": "python",
   "nbconvert_exporter": "python",
   "pygments_lexer": "ipython3",
   "version": "3.9.13"
  },
  "varInspector": {
   "cols": {
    "lenName": 16,
    "lenType": 16,
    "lenVar": 40
   },
   "kernels_config": {
    "python": {
     "delete_cmd_postfix": "",
     "delete_cmd_prefix": "del ",
     "library": "var_list.py",
     "varRefreshCmd": "print(var_dic_list())"
    },
    "r": {
     "delete_cmd_postfix": ") ",
     "delete_cmd_prefix": "rm(",
     "library": "var_list.r",
     "varRefreshCmd": "cat(var_dic_list()) "
    }
   },
   "types_to_exclude": [
    "module",
    "function",
    "builtin_function_or_method",
    "instance",
    "_Feature"
   ],
   "window_display": false
  }
 },
 "nbformat": 4,
 "nbformat_minor": 5
}
